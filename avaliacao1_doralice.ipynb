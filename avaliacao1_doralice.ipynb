{
 "cells": [
  {
   "cell_type": "markdown",
   "metadata": {},
   "source": [
    "![download.png](data:image/png;base64,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)\n",
    "\n",
    "***FACULDADE SENAC DE PERNAMBUCO***\n",
    "\n",
    "\n",
    "---\n",
    "\n",
    "**ALUNAS:** DORALICE FEIJÓ MOTA\n",
    "\n",
    "**TURMA:** TADS-019\n",
    "\n",
    "---"
   ]
  },
  {
   "cell_type": "markdown",
   "metadata": {},
   "source": [
    "## **Justificativa da escolha do DataSet:**\n",
    "---"
   ]
  },
  {
   "cell_type": "markdown",
   "metadata": {},
   "source": [
    "Optamos por utilizar o conjunto de dados do INEP por se tratar da maior prova do Brasil, especificamente os dados do ENEM de 2022 com dois dias consecutivos, englobando um amplo espectro de áreas de conhecimento, a saber: linguagens, códigos e suas tecnologias; ciências humanas e suas tecnologias; ciências da natureza e suas tecnologias; e matemática e suas tecnologias. Além disso, uma redação também foi incluída no exame. Os dados estão disponíveis no [site do INEP](https://www.gov.br/inep/pt-br/acesso-a-informacao/dados-abertos/microdados/enem).\n",
    "\n",
    "Acreditamos que esse formato da prova oferece um vasto campo de possibilidades para análise e aplicação dos conceitos abordados na atividade proposta. A diversidade de disciplinas e o acréscimo da redação possibilitam uma investigação abrangente, que pode revelar insights valiosos sobre o desempenho dos candidatos e suas pontuações ao longo dessas diferentes áreas de conhecimento, contribuindo assim para uma análise mais completa e rica em dados."
   ]
  },
  {
   "cell_type": "markdown",
   "metadata": {},
   "source": [
    "## Análise Exploratória - ENEM 2022\n",
    "---"
   ]
  },
  {
   "cell_type": "markdown",
   "metadata": {},
   "source": [
    "### Importando as bibliotecas que serão utilizadas, a base de dados \"crua\" e levantando um panorama inicial dos dados\n",
    "---"
   ]
  },
  {
   "cell_type": "code",
   "execution_count": 1,
   "metadata": {},
   "outputs": [
    {
     "name": "stdout",
     "output_type": "stream",
     "text": [
      "Requirement already satisfied: matplotlib in c:\\users\\thiag\\appdata\\local\\packages\\pythonsoftwarefoundation.python.3.11_qbz5n2kfra8p0\\localcache\\local-packages\\python311\\site-packages (3.7.1)Note: you may need to restart the kernel to use updated packages.\n",
      "\n",
      "Requirement already satisfied: contourpy>=1.0.1 in c:\\users\\thiag\\appdata\\local\\packages\\pythonsoftwarefoundation.python.3.11_qbz5n2kfra8p0\\localcache\\local-packages\\python311\\site-packages (from matplotlib) (1.0.7)\n",
      "Requirement already satisfied: cycler>=0.10 in c:\\users\\thiag\\appdata\\local\\packages\\pythonsoftwarefoundation.python.3.11_qbz5n2kfra8p0\\localcache\\local-packages\\python311\\site-packages (from matplotlib) (0.11.0)\n",
      "Requirement already satisfied: fonttools>=4.22.0 in c:\\users\\thiag\\appdata\\local\\packages\\pythonsoftwarefoundation.python.3.11_qbz5n2kfra8p0\\localcache\\local-packages\\python311\\site-packages (from matplotlib) (4.39.3)\n",
      "Requirement already satisfied: kiwisolver>=1.0.1 in c:\\users\\thiag\\appdata\\local\\packages\\pythonsoftwarefoundation.python.3.11_qbz5n2kfra8p0\\localcache\\local-packages\\python311\\site-packages (from matplotlib) (1.4.4)\n",
      "Requirement already satisfied: numpy>=1.20 in c:\\users\\thiag\\appdata\\local\\packages\\pythonsoftwarefoundation.python.3.11_qbz5n2kfra8p0\\localcache\\local-packages\\python311\\site-packages (from matplotlib) (1.24.2)\n",
      "Requirement already satisfied: packaging>=20.0 in c:\\users\\thiag\\appdata\\local\\packages\\pythonsoftwarefoundation.python.3.11_qbz5n2kfra8p0\\localcache\\local-packages\\python311\\site-packages (from matplotlib) (23.0)\n",
      "Requirement already satisfied: pillow>=6.2.0 in c:\\users\\thiag\\appdata\\local\\packages\\pythonsoftwarefoundation.python.3.11_qbz5n2kfra8p0\\localcache\\local-packages\\python311\\site-packages (from matplotlib) (9.4.0)\n",
      "Requirement already satisfied: pyparsing>=2.3.1 in c:\\users\\thiag\\appdata\\local\\packages\\pythonsoftwarefoundation.python.3.11_qbz5n2kfra8p0\\localcache\\local-packages\\python311\\site-packages (from matplotlib) (3.0.9)\n",
      "Requirement already satisfied: python-dateutil>=2.7 in c:\\users\\thiag\\appdata\\local\\packages\\pythonsoftwarefoundation.python.3.11_qbz5n2kfra8p0\\localcache\\local-packages\\python311\\site-packages (from matplotlib) (2.8.2)\n",
      "Requirement already satisfied: six>=1.5 in c:\\users\\thiag\\appdata\\local\\packages\\pythonsoftwarefoundation.python.3.11_qbz5n2kfra8p0\\localcache\\local-packages\\python311\\site-packages (from python-dateutil>=2.7->matplotlib) (1.16.0)\n"
     ]
    },
    {
     "name": "stderr",
     "output_type": "stream",
     "text": [
      "\n",
      "[notice] A new release of pip is available: 23.2.1 -> 23.3.2\n",
      "[notice] To update, run: C:\\Users\\thiag\\AppData\\Local\\Microsoft\\WindowsApps\\PythonSoftwareFoundation.Python.3.11_qbz5n2kfra8p0\\python.exe -m pip install --upgrade pip\n"
     ]
    }
   ],
   "source": [
    "pip install matplotlib"
   ]
  },
  {
   "cell_type": "code",
   "execution_count": 2,
   "metadata": {},
   "outputs": [
    {
     "name": "stdout",
     "output_type": "stream",
     "text": [
      "Requirement already satisfied: matplotlib in c:\\users\\thiag\\appdata\\local\\packages\\pythonsoftwarefoundation.python.3.11_qbz5n2kfra8p0\\localcache\\local-packages\\python311\\site-packages (3.7.1)\n",
      "Requirement already satisfied: seaborn in c:\\users\\thiag\\appdata\\local\\packages\\pythonsoftwarefoundation.python.3.11_qbz5n2kfra8p0\\localcache\\local-packages\\python311\\site-packages (0.12.2)\n",
      "Requirement already satisfied: contourpy>=1.0.1 in c:\\users\\thiag\\appdata\\local\\packages\\pythonsoftwarefoundation.python.3.11_qbz5n2kfra8p0\\localcache\\local-packages\\python311\\site-packages (from matplotlib) (1.0.7)\n",
      "Requirement already satisfied: cycler>=0.10 in c:\\users\\thiag\\appdata\\local\\packages\\pythonsoftwarefoundation.python.3.11_qbz5n2kfra8p0\\localcache\\local-packages\\python311\\site-packages (from matplotlib) (0.11.0)\n",
      "Requirement already satisfied: fonttools>=4.22.0 in c:\\users\\thiag\\appdata\\local\\packages\\pythonsoftwarefoundation.python.3.11_qbz5n2kfra8p0\\localcache\\local-packages\\python311\\site-packages (from matplotlib) (4.39.3)\n",
      "Requirement already satisfied: kiwisolver>=1.0.1 in c:\\users\\thiag\\appdata\\local\\packages\\pythonsoftwarefoundation.python.3.11_qbz5n2kfra8p0\\localcache\\local-packages\\python311\\site-packages (from matplotlib) (1.4.4)\n",
      "Requirement already satisfied: numpy>=1.20 in c:\\users\\thiag\\appdata\\local\\packages\\pythonsoftwarefoundation.python.3.11_qbz5n2kfra8p0\\localcache\\local-packages\\python311\\site-packages (from matplotlib) (1.24.2)\n",
      "Requirement already satisfied: packaging>=20.0 in c:\\users\\thiag\\appdata\\local\\packages\\pythonsoftwarefoundation.python.3.11_qbz5n2kfra8p0\\localcache\\local-packages\\python311\\site-packages (from matplotlib) (23.0)\n",
      "Requirement already satisfied: pillow>=6.2.0 in c:\\users\\thiag\\appdata\\local\\packages\\pythonsoftwarefoundation.python.3.11_qbz5n2kfra8p0\\localcache\\local-packages\\python311\\site-packages (from matplotlib) (9.4.0)\n",
      "Requirement already satisfied: pyparsing>=2.3.1 in c:\\users\\thiag\\appdata\\local\\packages\\pythonsoftwarefoundation.python.3.11_qbz5n2kfra8p0\\localcache\\local-packages\\python311\\site-packages (from matplotlib) (3.0.9)\n",
      "Requirement already satisfied: python-dateutil>=2.7 in c:\\users\\thiag\\appdata\\local\\packages\\pythonsoftwarefoundation.python.3.11_qbz5n2kfra8p0\\localcache\\local-packages\\python311\\site-packages (from matplotlib) (2.8.2)\n",
      "Requirement already satisfied: pandas>=0.25 in c:\\users\\thiag\\appdata\\local\\packages\\pythonsoftwarefoundation.python.3.11_qbz5n2kfra8p0\\localcache\\local-packages\\python311\\site-packages (from seaborn) (1.5.3)\n",
      "Requirement already satisfied: pytz>=2020.1 in c:\\users\\thiag\\appdata\\local\\packages\\pythonsoftwarefoundation.python.3.11_qbz5n2kfra8p0\\localcache\\local-packages\\python311\\site-packages (from pandas>=0.25->seaborn) (2022.7.1)\n",
      "Requirement already satisfied: six>=1.5 in c:\\users\\thiag\\appdata\\local\\packages\\pythonsoftwarefoundation.python.3.11_qbz5n2kfra8p0\\localcache\\local-packages\\python311\\site-packages (from python-dateutil>=2.7->matplotlib) (1.16.0)\n",
      "Note: you may need to restart the kernel to use updated packages.\n"
     ]
    },
    {
     "name": "stderr",
     "output_type": "stream",
     "text": [
      "\n",
      "[notice] A new release of pip is available: 23.2.1 -> 23.3.2\n",
      "[notice] To update, run: C:\\Users\\thiag\\AppData\\Local\\Microsoft\\WindowsApps\\PythonSoftwareFoundation.Python.3.11_qbz5n2kfra8p0\\python.exe -m pip install --upgrade pip\n"
     ]
    }
   ],
   "source": [
    "pip install matplotlib seaborn"
   ]
  },
  {
   "cell_type": "code",
   "execution_count": 3,
   "metadata": {},
   "outputs": [
    {
     "name": "stdout",
     "output_type": "stream",
     "text": [
      "Requirement already satisfied: pip in c:\\users\\thiag\\appdata\\local\\packages\\pythonsoftwarefoundation.python.3.11_qbz5n2kfra8p0\\localcache\\local-packages\\python311\\site-packages (23.2.1)\n",
      "Collecting pip\n",
      "  Obtaining dependency information for pip from https://files.pythonhosted.org/packages/15/aa/3f4c7bcee2057a76562a5b33ecbd199be08cdb4443a02e26bd2c3cf6fc39/pip-23.3.2-py3-none-any.whl.metadata\n",
      "  Downloading pip-23.3.2-py3-none-any.whl.metadata (3.5 kB)\n",
      "Downloading pip-23.3.2-py3-none-any.whl (2.1 MB)\n",
      "   ---------------------------------------- 0.0/2.1 MB ? eta -:--:--\n",
      "   ---------------------------------------- 0.0/2.1 MB ? eta -:--:--\n",
      "   ---------------------------------------- 0.0/2.1 MB ? eta -:--:--\n",
      "   - -------------------------------------- 0.1/2.1 MB 656.4 kB/s eta 0:00:04\n",
      "   -- ------------------------------------- 0.1/2.1 MB 939.4 kB/s eta 0:00:03\n",
      "   ---- ----------------------------------- 0.2/2.1 MB 1.5 MB/s eta 0:00:02\n",
      "   ------ --------------------------------- 0.3/2.1 MB 1.5 MB/s eta 0:00:02\n",
      "   -------- ------------------------------- 0.4/2.1 MB 1.6 MB/s eta 0:00:02\n",
      "   ----------- ---------------------------- 0.6/2.1 MB 1.9 MB/s eta 0:00:01\n",
      "   -------------- ------------------------- 0.7/2.1 MB 2.1 MB/s eta 0:00:01\n",
      "   ---------------- ----------------------- 0.9/2.1 MB 2.2 MB/s eta 0:00:01\n",
      "   ------------------- -------------------- 1.0/2.1 MB 2.3 MB/s eta 0:00:01\n",
      "   ---------------------- ----------------- 1.2/2.1 MB 2.4 MB/s eta 0:00:01\n",
      "   ------------------------- -------------- 1.4/2.1 MB 2.5 MB/s eta 0:00:01\n",
      "   --------------------------- ------------ 1.4/2.1 MB 2.4 MB/s eta 0:00:01\n",
      "   ----------------------------- ---------- 1.6/2.1 MB 2.4 MB/s eta 0:00:01\n",
      "   --------------------------------- ------ 1.8/2.1 MB 2.5 MB/s eta 0:00:01\n",
      "   -------------------------------------- - 2.0/2.1 MB 2.7 MB/s eta 0:00:01\n",
      "   ---------------------------------------  2.1/2.1 MB 2.7 MB/s eta 0:00:01\n",
      "   ---------------------------------------- 2.1/2.1 MB 2.6 MB/s eta 0:00:00\n",
      "Installing collected packages: pip\n",
      "  Attempting uninstall: pip\n",
      "    Found existing installation: pip 23.2.1\n",
      "    Uninstalling pip-23.2.1:\n",
      "      Successfully uninstalled pip-23.2.1\n",
      "Successfully installed pip-23.3.2\n"
     ]
    }
   ],
   "source": [
    "!python.exe -m pip install --upgrade pip"
   ]
  },
  {
   "cell_type": "code",
   "execution_count": 4,
   "metadata": {},
   "outputs": [],
   "source": [
    "# Importando as bibliotecas que serão utilizadas\n",
    "import numpy as np\n",
    "import pandas as pd\n",
    "import matplotlib.pyplot as plt\n",
    "import seaborn as sns"
   ]
  },
  {
   "cell_type": "markdown",
   "metadata": {},
   "source": [
    "Importando a base dos dados do ano de 2022 disponível no site do [INEP](https://www.gov.br/inep/pt-br/acesso-a-informacao/dados-abertos/microdados/enem) e buscando conhecer um pouco os dados."
   ]
  },
  {
   "cell_type": "code",
   "execution_count": 5,
   "metadata": {},
   "outputs": [],
   "source": [
    "df = pd.read_csv ('MICRODADOS_ENEM_2022.csv', sep=';', encoding='ISO-8859-1')"
   ]
  },
  {
   "cell_type": "code",
   "execution_count": 6,
   "metadata": {},
   "outputs": [
    {
     "name": "stdout",
     "output_type": "stream",
     "text": [
      "A base de dados apresenta 3476105 linhas e 76 colunas\n"
     ]
    }
   ],
   "source": [
    "# Conhecendo o tamanho da nossa base\n",
    "print(f'A base de dados apresenta {df.shape[0]} linhas e {df.shape[1]} colunas')"
   ]
  },
  {
   "cell_type": "code",
   "execution_count": 7,
   "metadata": {},
   "outputs": [
    {
     "data": {
      "text/html": [
       "<div>\n",
       "<style scoped>\n",
       "    .dataframe tbody tr th:only-of-type {\n",
       "        vertical-align: middle;\n",
       "    }\n",
       "\n",
       "    .dataframe tbody tr th {\n",
       "        vertical-align: top;\n",
       "    }\n",
       "\n",
       "    .dataframe thead th {\n",
       "        text-align: right;\n",
       "    }\n",
       "</style>\n",
       "<table border=\"1\" class=\"dataframe\">\n",
       "  <thead>\n",
       "    <tr style=\"text-align: right;\">\n",
       "      <th></th>\n",
       "      <th>NU_INSCRICAO</th>\n",
       "      <th>NU_ANO</th>\n",
       "      <th>TP_FAIXA_ETARIA</th>\n",
       "      <th>TP_SEXO</th>\n",
       "      <th>TP_ESTADO_CIVIL</th>\n",
       "      <th>TP_COR_RACA</th>\n",
       "      <th>TP_NACIONALIDADE</th>\n",
       "      <th>TP_ST_CONCLUSAO</th>\n",
       "      <th>TP_ANO_CONCLUIU</th>\n",
       "      <th>TP_ESCOLA</th>\n",
       "      <th>...</th>\n",
       "      <th>Q016</th>\n",
       "      <th>Q017</th>\n",
       "      <th>Q018</th>\n",
       "      <th>Q019</th>\n",
       "      <th>Q020</th>\n",
       "      <th>Q021</th>\n",
       "      <th>Q022</th>\n",
       "      <th>Q023</th>\n",
       "      <th>Q024</th>\n",
       "      <th>Q025</th>\n",
       "    </tr>\n",
       "  </thead>\n",
       "  <tbody>\n",
       "    <tr>\n",
       "      <th>0</th>\n",
       "      <td>210057943671</td>\n",
       "      <td>2022</td>\n",
       "      <td>14</td>\n",
       "      <td>M</td>\n",
       "      <td>2</td>\n",
       "      <td>2</td>\n",
       "      <td>1</td>\n",
       "      <td>1</td>\n",
       "      <td>2</td>\n",
       "      <td>1</td>\n",
       "      <td>...</td>\n",
       "      <td>B</td>\n",
       "      <td>A</td>\n",
       "      <td>A</td>\n",
       "      <td>A</td>\n",
       "      <td>A</td>\n",
       "      <td>A</td>\n",
       "      <td>A</td>\n",
       "      <td>A</td>\n",
       "      <td>A</td>\n",
       "      <td>A</td>\n",
       "    </tr>\n",
       "    <tr>\n",
       "      <th>1</th>\n",
       "      <td>210057516120</td>\n",
       "      <td>2022</td>\n",
       "      <td>14</td>\n",
       "      <td>M</td>\n",
       "      <td>2</td>\n",
       "      <td>1</td>\n",
       "      <td>1</td>\n",
       "      <td>1</td>\n",
       "      <td>16</td>\n",
       "      <td>1</td>\n",
       "      <td>...</td>\n",
       "      <td>E</td>\n",
       "      <td>E</td>\n",
       "      <td>B</td>\n",
       "      <td>E</td>\n",
       "      <td>B</td>\n",
       "      <td>B</td>\n",
       "      <td>E</td>\n",
       "      <td>B</td>\n",
       "      <td>E</td>\n",
       "      <td>B</td>\n",
       "    </tr>\n",
       "    <tr>\n",
       "      <th>2</th>\n",
       "      <td>210057280536</td>\n",
       "      <td>2022</td>\n",
       "      <td>5</td>\n",
       "      <td>F</td>\n",
       "      <td>1</td>\n",
       "      <td>2</td>\n",
       "      <td>1</td>\n",
       "      <td>1</td>\n",
       "      <td>2</td>\n",
       "      <td>1</td>\n",
       "      <td>...</td>\n",
       "      <td>A</td>\n",
       "      <td>A</td>\n",
       "      <td>A</td>\n",
       "      <td>A</td>\n",
       "      <td>A</td>\n",
       "      <td>A</td>\n",
       "      <td>C</td>\n",
       "      <td>A</td>\n",
       "      <td>A</td>\n",
       "      <td>B</td>\n",
       "    </tr>\n",
       "    <tr>\n",
       "      <th>3</th>\n",
       "      <td>210055724397</td>\n",
       "      <td>2022</td>\n",
       "      <td>6</td>\n",
       "      <td>M</td>\n",
       "      <td>1</td>\n",
       "      <td>3</td>\n",
       "      <td>1</td>\n",
       "      <td>1</td>\n",
       "      <td>2</td>\n",
       "      <td>1</td>\n",
       "      <td>...</td>\n",
       "      <td>B</td>\n",
       "      <td>A</td>\n",
       "      <td>A</td>\n",
       "      <td>C</td>\n",
       "      <td>A</td>\n",
       "      <td>A</td>\n",
       "      <td>C</td>\n",
       "      <td>B</td>\n",
       "      <td>B</td>\n",
       "      <td>B</td>\n",
       "    </tr>\n",
       "    <tr>\n",
       "      <th>4</th>\n",
       "      <td>210055097896</td>\n",
       "      <td>2022</td>\n",
       "      <td>4</td>\n",
       "      <td>M</td>\n",
       "      <td>0</td>\n",
       "      <td>3</td>\n",
       "      <td>1</td>\n",
       "      <td>1</td>\n",
       "      <td>1</td>\n",
       "      <td>1</td>\n",
       "      <td>...</td>\n",
       "      <td>A</td>\n",
       "      <td>A</td>\n",
       "      <td>A</td>\n",
       "      <td>A</td>\n",
       "      <td>A</td>\n",
       "      <td>A</td>\n",
       "      <td>B</td>\n",
       "      <td>A</td>\n",
       "      <td>A</td>\n",
       "      <td>A</td>\n",
       "    </tr>\n",
       "  </tbody>\n",
       "</table>\n",
       "<p>5 rows × 76 columns</p>\n",
       "</div>"
      ],
      "text/plain": [
       "   NU_INSCRICAO  NU_ANO  TP_FAIXA_ETARIA TP_SEXO  TP_ESTADO_CIVIL  \\\n",
       "0  210057943671    2022               14       M                2   \n",
       "1  210057516120    2022               14       M                2   \n",
       "2  210057280536    2022                5       F                1   \n",
       "3  210055724397    2022                6       M                1   \n",
       "4  210055097896    2022                4       M                0   \n",
       "\n",
       "   TP_COR_RACA  TP_NACIONALIDADE  TP_ST_CONCLUSAO  TP_ANO_CONCLUIU  TP_ESCOLA  \\\n",
       "0            2                 1                1                2          1   \n",
       "1            1                 1                1               16          1   \n",
       "2            2                 1                1                2          1   \n",
       "3            3                 1                1                2          1   \n",
       "4            3                 1                1                1          1   \n",
       "\n",
       "   ...  Q016  Q017  Q018 Q019  Q020 Q021  Q022  Q023  Q024  Q025  \n",
       "0  ...     B     A     A    A     A    A     A     A     A     A  \n",
       "1  ...     E     E     B    E     B    B     E     B     E     B  \n",
       "2  ...     A     A     A    A     A    A     C     A     A     B  \n",
       "3  ...     B     A     A    C     A    A     C     B     B     B  \n",
       "4  ...     A     A     A    A     A    A     B     A     A     A  \n",
       "\n",
       "[5 rows x 76 columns]"
      ]
     },
     "execution_count": 7,
     "metadata": {},
     "output_type": "execute_result"
    }
   ],
   "source": [
    "# Visualizando as 5 primeiras linhas da base para vermos um pouco de como estão os dados\n",
    "df.head()"
   ]
  },
  {
   "cell_type": "code",
   "execution_count": 8,
   "metadata": {},
   "outputs": [
    {
     "name": "stdout",
     "output_type": "stream",
     "text": [
      "<class 'pandas.core.frame.DataFrame'>\n",
      "RangeIndex: 3476105 entries, 0 to 3476104\n",
      "Data columns (total 76 columns):\n",
      " #   Column                  Dtype  \n",
      "---  ------                  -----  \n",
      " 0   NU_INSCRICAO            int64  \n",
      " 1   NU_ANO                  int64  \n",
      " 2   TP_FAIXA_ETARIA         int64  \n",
      " 3   TP_SEXO                 object \n",
      " 4   TP_ESTADO_CIVIL         int64  \n",
      " 5   TP_COR_RACA             int64  \n",
      " 6   TP_NACIONALIDADE        int64  \n",
      " 7   TP_ST_CONCLUSAO         int64  \n",
      " 8   TP_ANO_CONCLUIU         int64  \n",
      " 9   TP_ESCOLA               int64  \n",
      " 10  TP_ENSINO               float64\n",
      " 11  IN_TREINEIRO            int64  \n",
      " 12  CO_MUNICIPIO_ESC        float64\n",
      " 13  NO_MUNICIPIO_ESC        object \n",
      " 14  CO_UF_ESC               float64\n",
      " 15  SG_UF_ESC               object \n",
      " 16  TP_DEPENDENCIA_ADM_ESC  float64\n",
      " 17  TP_LOCALIZACAO_ESC      float64\n",
      " 18  TP_SIT_FUNC_ESC         float64\n",
      " 19  CO_MUNICIPIO_PROVA      int64  \n",
      " 20  NO_MUNICIPIO_PROVA      object \n",
      " 21  CO_UF_PROVA             int64  \n",
      " 22  SG_UF_PROVA             object \n",
      " 23  TP_PRESENCA_CN          int64  \n",
      " 24  TP_PRESENCA_CH          int64  \n",
      " 25  TP_PRESENCA_LC          int64  \n",
      " 26  TP_PRESENCA_MT          int64  \n",
      " 27  CO_PROVA_CN             float64\n",
      " 28  CO_PROVA_CH             float64\n",
      " 29  CO_PROVA_LC             float64\n",
      " 30  CO_PROVA_MT             float64\n",
      " 31  NU_NOTA_CN              float64\n",
      " 32  NU_NOTA_CH              float64\n",
      " 33  NU_NOTA_LC              float64\n",
      " 34  NU_NOTA_MT              float64\n",
      " 35  TX_RESPOSTAS_CN         object \n",
      " 36  TX_RESPOSTAS_CH         object \n",
      " 37  TX_RESPOSTAS_LC         object \n",
      " 38  TX_RESPOSTAS_MT         object \n",
      " 39  TP_LINGUA               int64  \n",
      " 40  TX_GABARITO_CN          object \n",
      " 41  TX_GABARITO_CH          object \n",
      " 42  TX_GABARITO_LC          object \n",
      " 43  TX_GABARITO_MT          object \n",
      " 44  TP_STATUS_REDACAO       float64\n",
      " 45  NU_NOTA_COMP1           float64\n",
      " 46  NU_NOTA_COMP2           float64\n",
      " 47  NU_NOTA_COMP3           float64\n",
      " 48  NU_NOTA_COMP4           float64\n",
      " 49  NU_NOTA_COMP5           float64\n",
      " 50  NU_NOTA_REDACAO         float64\n",
      " 51  Q001                    object \n",
      " 52  Q002                    object \n",
      " 53  Q003                    object \n",
      " 54  Q004                    object \n",
      " 55  Q005                    int64  \n",
      " 56  Q006                    object \n",
      " 57  Q007                    object \n",
      " 58  Q008                    object \n",
      " 59  Q009                    object \n",
      " 60  Q010                    object \n",
      " 61  Q011                    object \n",
      " 62  Q012                    object \n",
      " 63  Q013                    object \n",
      " 64  Q014                    object \n",
      " 65  Q015                    object \n",
      " 66  Q016                    object \n",
      " 67  Q017                    object \n",
      " 68  Q018                    object \n",
      " 69  Q019                    object \n",
      " 70  Q020                    object \n",
      " 71  Q021                    object \n",
      " 72  Q022                    object \n",
      " 73  Q023                    object \n",
      " 74  Q024                    object \n",
      " 75  Q025                    object \n",
      "dtypes: float64(21), int64(18), object(37)\n",
      "memory usage: 2.0+ GB\n"
     ]
    }
   ],
   "source": [
    "# Verificando como estão organizados e quais os seus tipos\n",
    "df.info()"
   ]
  },
  {
   "cell_type": "code",
   "execution_count": 9,
   "metadata": {},
   "outputs": [],
   "source": [
    "# Criando um dataframe reserva caso aconteça algum imprevisto com o que estivermos trablhando\n",
    "df_reserva_original = df.copy()"
   ]
  },
  {
   "cell_type": "code",
   "execution_count": 10,
   "metadata": {},
   "outputs": [
    {
     "data": {
      "text/plain": [
       "object     37\n",
       "float64    21\n",
       "int64      18\n",
       "dtype: int64"
      ]
     },
     "execution_count": 10,
     "metadata": {},
     "output_type": "execute_result"
    }
   ],
   "source": [
    "# Tipos dos dados existentes em cada coluna\n",
    "df.dtypes.value_counts()"
   ]
  },
  {
   "cell_type": "markdown",
   "metadata": {},
   "source": [
    "### Criando um novo DataFrame apenas com as colunas que iremos utilizar na análise\n",
    "---"
   ]
  },
  {
   "cell_type": "markdown",
   "metadata": {},
   "source": [
    "Com base nas análises feitas nas células acima e no [dicionário de dados](Dicionário_Microdados_Enem_2022.xlsx), optamos por utilizar somente algumas colunas que demonstraram ter mais informações importantes."
   ]
  },
  {
   "cell_type": "code",
   "execution_count": 11,
   "metadata": {},
   "outputs": [
    {
     "name": "stdout",
     "output_type": "stream",
     "text": [
      "A base de dados apresenta 3476105 linhas e 10 colunas\n"
     ]
    }
   ],
   "source": [
    "colunas_necessarias = ['NU_INSCRICAO', # Número de inscrição do candidato(a)\n",
    "                        'TP_FAIXA_ETARIA', # Idade/Faixa etária do candidato(a)\n",
    "                        'TP_SEXO', # Sexo do candidato(a)\n",
    "                        'TP_COR_RACA', # Raça do candidadto(a)\n",
    "                        'TP_ESCOLA', # Tipo da escola (privada/pública)\n",
    "                        'TP_PRESENCA_LC', # Presença na prova de Língua Portuguesa\n",
    "                        'TP_PRESENCA_MT', # Presença na prova de Matemática\n",
    "                        'Q001', # Até que série seu pai, ou o homem responsável por você, estudou?\n",
    "                        'Q002', # Até que série sua mãe, ou a mulher responsável por você, estudou?\n",
    "                        'Q006' # Qual é a renda mensal de sua família? (Some a sua renda com a dos seus familiares.)\n",
    "                        ]\n",
    "\n",
    "dados = df[colunas_necessarias]\n",
    "\n",
    "print(f'A base de dados apresenta {dados.shape[0]} linhas e {dados.shape[1]} colunas')"
   ]
  },
  {
   "cell_type": "code",
   "execution_count": 12,
   "metadata": {},
   "outputs": [
    {
     "data": {
      "text/html": [
       "<div>\n",
       "<style scoped>\n",
       "    .dataframe tbody tr th:only-of-type {\n",
       "        vertical-align: middle;\n",
       "    }\n",
       "\n",
       "    .dataframe tbody tr th {\n",
       "        vertical-align: top;\n",
       "    }\n",
       "\n",
       "    .dataframe thead th {\n",
       "        text-align: right;\n",
       "    }\n",
       "</style>\n",
       "<table border=\"1\" class=\"dataframe\">\n",
       "  <thead>\n",
       "    <tr style=\"text-align: right;\">\n",
       "      <th></th>\n",
       "      <th>NU_INSCRICAO</th>\n",
       "      <th>TP_FAIXA_ETARIA</th>\n",
       "      <th>TP_SEXO</th>\n",
       "      <th>TP_COR_RACA</th>\n",
       "      <th>TP_ESCOLA</th>\n",
       "      <th>TP_PRESENCA_LC</th>\n",
       "      <th>TP_PRESENCA_MT</th>\n",
       "      <th>Q001</th>\n",
       "      <th>Q002</th>\n",
       "      <th>Q006</th>\n",
       "    </tr>\n",
       "  </thead>\n",
       "  <tbody>\n",
       "    <tr>\n",
       "      <th>0</th>\n",
       "      <td>210057943671</td>\n",
       "      <td>14</td>\n",
       "      <td>M</td>\n",
       "      <td>2</td>\n",
       "      <td>1</td>\n",
       "      <td>0</td>\n",
       "      <td>0</td>\n",
       "      <td>A</td>\n",
       "      <td>A</td>\n",
       "      <td>B</td>\n",
       "    </tr>\n",
       "    <tr>\n",
       "      <th>1</th>\n",
       "      <td>210057516120</td>\n",
       "      <td>14</td>\n",
       "      <td>M</td>\n",
       "      <td>1</td>\n",
       "      <td>1</td>\n",
       "      <td>0</td>\n",
       "      <td>0</td>\n",
       "      <td>D</td>\n",
       "      <td>D</td>\n",
       "      <td>Q</td>\n",
       "    </tr>\n",
       "    <tr>\n",
       "      <th>2</th>\n",
       "      <td>210057280536</td>\n",
       "      <td>5</td>\n",
       "      <td>F</td>\n",
       "      <td>2</td>\n",
       "      <td>1</td>\n",
       "      <td>1</td>\n",
       "      <td>1</td>\n",
       "      <td>E</td>\n",
       "      <td>F</td>\n",
       "      <td>B</td>\n",
       "    </tr>\n",
       "    <tr>\n",
       "      <th>3</th>\n",
       "      <td>210055724397</td>\n",
       "      <td>6</td>\n",
       "      <td>M</td>\n",
       "      <td>3</td>\n",
       "      <td>1</td>\n",
       "      <td>1</td>\n",
       "      <td>1</td>\n",
       "      <td>C</td>\n",
       "      <td>A</td>\n",
       "      <td>A</td>\n",
       "    </tr>\n",
       "    <tr>\n",
       "      <th>4</th>\n",
       "      <td>210055097896</td>\n",
       "      <td>4</td>\n",
       "      <td>M</td>\n",
       "      <td>3</td>\n",
       "      <td>1</td>\n",
       "      <td>0</td>\n",
       "      <td>0</td>\n",
       "      <td>D</td>\n",
       "      <td>B</td>\n",
       "      <td>B</td>\n",
       "    </tr>\n",
       "  </tbody>\n",
       "</table>\n",
       "</div>"
      ],
      "text/plain": [
       "   NU_INSCRICAO  TP_FAIXA_ETARIA TP_SEXO  TP_COR_RACA  TP_ESCOLA  \\\n",
       "0  210057943671               14       M            2          1   \n",
       "1  210057516120               14       M            1          1   \n",
       "2  210057280536                5       F            2          1   \n",
       "3  210055724397                6       M            3          1   \n",
       "4  210055097896                4       M            3          1   \n",
       "\n",
       "   TP_PRESENCA_LC  TP_PRESENCA_MT Q001 Q002 Q006  \n",
       "0               0               0    A    A    B  \n",
       "1               0               0    D    D    Q  \n",
       "2               1               1    E    F    B  \n",
       "3               1               1    C    A    A  \n",
       "4               0               0    D    B    B  "
      ]
     },
     "execution_count": 12,
     "metadata": {},
     "output_type": "execute_result"
    }
   ],
   "source": [
    "# Imprimir cabeçalho\n",
    "dados.head()"
   ]
  },
  {
   "cell_type": "code",
   "execution_count": 13,
   "metadata": {},
   "outputs": [],
   "source": [
    "# Criando um dataframe reserva caso aconteça algum imprevisto com o que estivermos trablhando\n",
    "dados_reserva = dados.copy()"
   ]
  },
  {
   "cell_type": "markdown",
   "metadata": {},
   "source": [
    "Como as provas de Linguagens e Código e CIências Humanas são aplicadas em conjunto/no mesmo dia e o mesmo é válido para Matemática e suas Tecnologias e Ciências da Natureza, iremos renomear as colunas TP_PRE'SENCA_LC e 'TP_PRESENCA_MT' para, respectivamente, 'TP_PRESENCA_LC_CH' e 'TP_PRESENCA_MT_CN', para assim deixarmos claro que estamos englobando as 4 provas."
   ]
  },
  {
   "cell_type": "code",
   "execution_count": 14,
   "metadata": {},
   "outputs": [
    {
     "name": "stderr",
     "output_type": "stream",
     "text": [
      "C:\\Users\\thiag\\AppData\\Local\\Temp\\ipykernel_10756\\4050887217.py:1: SettingWithCopyWarning: \n",
      "A value is trying to be set on a copy of a slice from a DataFrame\n",
      "\n",
      "See the caveats in the documentation: https://pandas.pydata.org/pandas-docs/stable/user_guide/indexing.html#returning-a-view-versus-a-copy\n",
      "  dados.rename(columns={'TP_PRESENCA_LC': 'TP_PRESENCA_LC_CH', 'TP_PRESENCA_MT': 'TP_PRESENCA_MT_CN'}, inplace=True)\n"
     ]
    }
   ],
   "source": [
    "dados.rename(columns={'TP_PRESENCA_LC': 'TP_PRESENCA_LC_CH', 'TP_PRESENCA_MT': 'TP_PRESENCA_MT_CN'}, inplace=True)"
   ]
  },
  {
   "cell_type": "code",
   "execution_count": 15,
   "metadata": {},
   "outputs": [
    {
     "data": {
      "text/plain": [
       "NU_INSCRICAO         0\n",
       "TP_FAIXA_ETARIA      0\n",
       "TP_SEXO              0\n",
       "TP_COR_RACA          0\n",
       "TP_ESCOLA            0\n",
       "TP_PRESENCA_LC_CH    0\n",
       "TP_PRESENCA_MT_CN    0\n",
       "Q001                 0\n",
       "Q002                 0\n",
       "Q006                 0\n",
       "dtype: int64"
      ]
     },
     "execution_count": 15,
     "metadata": {},
     "output_type": "execute_result"
    }
   ],
   "source": [
    "# Verificando a quantidade de valores nulos por coluna\n",
    "dados.isna().sum()"
   ]
  },
  {
   "cell_type": "code",
   "execution_count": 16,
   "metadata": {},
   "outputs": [
    {
     "name": "stdout",
     "output_type": "stream",
     "text": [
      "<class 'pandas.core.frame.DataFrame'>\n",
      "RangeIndex: 3476105 entries, 0 to 3476104\n",
      "Data columns (total 10 columns):\n",
      " #   Column             Dtype \n",
      "---  ------             ----- \n",
      " 0   NU_INSCRICAO       int64 \n",
      " 1   TP_FAIXA_ETARIA    int64 \n",
      " 2   TP_SEXO            object\n",
      " 3   TP_COR_RACA        int64 \n",
      " 4   TP_ESCOLA          int64 \n",
      " 5   TP_PRESENCA_LC_CH  int64 \n",
      " 6   TP_PRESENCA_MT_CN  int64 \n",
      " 7   Q001               object\n",
      " 8   Q002               object\n",
      " 9   Q006               object\n",
      "dtypes: int64(6), object(4)\n",
      "memory usage: 265.2+ MB\n"
     ]
    }
   ],
   "source": [
    "# Vendo quais os tipos de cada coluna\n",
    "dados.info()"
   ]
  },
  {
   "cell_type": "code",
   "execution_count": 17,
   "metadata": {},
   "outputs": [
    {
     "data": {
      "text/plain": [
       "int64     6\n",
       "object    4\n",
       "dtype: int64"
      ]
     },
     "execution_count": 17,
     "metadata": {},
     "output_type": "execute_result"
    }
   ],
   "source": [
    "# Tipos dos dados existentes em cada coluna\n",
    "dados.dtypes.value_counts()"
   ]
  },
  {
   "cell_type": "markdown",
   "metadata": {},
   "source": [
    "#### Realizando a substituição dos dados que estão como \"código\" pela descrição disponível no dicionário de dados"
   ]
  },
  {
   "cell_type": "code",
   "execution_count": 18,
   "metadata": {},
   "outputs": [],
   "source": [
    "# Dicionários com o código e sua respectiva correspondência/significado\n",
    "\n",
    "tp_sexo = {\n",
    "    \"F\" : \"Feminino\",\n",
    "    \"M\" : \"Masculino\"\n",
    "}\n",
    "\n",
    "tp_cor_raca = {\n",
    "        0 : \"Não declarado\",\n",
    "        1 : \"Branca\",\n",
    "        2 : \"Preta\",\n",
    "        3 : \"Parda\",\n",
    "        4 : \"Amarela\",\n",
    "        5 : \"Indígena \",\n",
    "        6 : \"Não dispõe da informação\"\n",
    "    }\n",
    "\n",
    "tp_escola = {\n",
    "        1 : \"Não Respondeu\",\n",
    "        2 : \"Pública\",\n",
    "        3 : \"Privada\"\n",
    "    }\n",
    "\n",
    "tp_presenca = {\n",
    "        0 : \"Faltou à prova\",\n",
    "        1 : \"Presente na prova\",\n",
    "        2 : \"Eliminado na prova\"\n",
    "    }\n",
    "\n",
    "q001_2 = {\n",
    "        \"A\" : \"Nunca estudou.\",\n",
    "        \"B\" : \"Não completou a 4ª série/5º ano do Ensino Fundamental.\",\n",
    "        \"C\" : \"Completou a 4ª série/5º ano, mas não completou a 8ª série/9º ano do Ensino Fundamental.\",\n",
    "        \"D\" : \"Completou a 8ª série/9º ano do Ensino Fundamental, mas não completou o Ensino Médio.\",\n",
    "        \"E\" : \"Completou o Ensino Médio, mas não completou a Faculdade.\",\n",
    "        \"F\" : \"Completou a Faculdade, mas não completou a Pós-graduação.\",\n",
    "        \"G\" : \"Completou a Pós-graduação.\",\n",
    "        \"H\" : \"Não sei.\"\n",
    "    }\n",
    "\n",
    "q006 = {\n",
    "        \"A\" : \"Nenhuma Renda\",\n",
    "        \"B\" : \"Até R$ 1.212,00\",\n",
    "        \"C\" : \"De R$ 1.212,01 até R$ 1.818,00.\",\n",
    "        \"D\" : \"De R$ 1.818,01 até R$ 2.424,00.\",\n",
    "        \"E\" : \"De R$ 2.424,01 até R$ 3.030,00.\",\n",
    "        \"F\" : \"De R$ 3.030,01 até R$ 3.636,00.\",\n",
    "        \"G\" : \"De R$ 3.636,01 até R$ 4.848,00.\",\n",
    "        \"H\" : \"De R$ 4.848,01 até R$ 6.060,00.\",\n",
    "        \"I\" : \"De R$ 6.060,01 até R$ 7.272,00.\",\n",
    "        \"J\" : \"De R$ 7.272,01 até R$ 8.484,00.\",\n",
    "        \"K\" : \"De R$ 8.484,01 até R$ 9.696,00.\",\n",
    "        \"L\" : \"De R$ 9.696,01 até R$ 10.908,00.\",\n",
    "        \"M\" : \"De R$ 10.908,01 até R$ 12.120,00.\",\n",
    "        \"N\" : \"De R$ 12.120,01 até R$ 14.544,00.\",\n",
    "        \"O\" : \"De R$ 14.544,01 até R$ 18.180,00.\",\n",
    "        \"P\" : \"De R$ 18.180,01 até R$ 24.240,00.\",\n",
    "        \"Q\" : \"Acima de R$ 24.240,00.\"\n",
    "    }"
   ]
  },
  {
   "cell_type": "code",
   "execution_count": 19,
   "metadata": {},
   "outputs": [],
   "source": [
    "# Para as faixas etárias, optamos por criar novas faixas afim de agrupar melhor os dados\n",
    "tp_faixa_etaria_original = {\n",
    "        1 : \"Menor de 17 anos\",\n",
    "        2 : \"17 anos\",\n",
    "        3 : \"18 anos\",\n",
    "        4 : \"19 anos\",\n",
    "        5 : \"20 anos\",\n",
    "        6 : \"21 anos\",\n",
    "        7 : \"22 anos\",\n",
    "        8 : \"23 anos\",\n",
    "        9 : \"24 anos\",\n",
    "        10 : \"25 anos\",\n",
    "        11 : \"Entre 26 e 30 anos\",\n",
    "        12 : \"Entre 31 e 35 anos\",\n",
    "        13 : \"Entre 36 e 40 anos\",\n",
    "        14 : \"Entre 41 e 45 anos\",\n",
    "        15 : \"Entre 46 e 50 anos\",\n",
    "        16 : \"Entre 51 e 55 anos\",\n",
    "        17 : \"Entre 56 e 60 anos\",\n",
    "        18 : \"Entre 61 e 65 anos\",\n",
    "        19 : \"Entre 66 e 70 anos\",\n",
    "        20 : \"Maior de 70 anos\"\n",
    "    }\n",
    "\n",
    "tp_faixa_etaria_ajustada = {\n",
    "        1 : \"Menor de 18 anos\",\n",
    "        2 : \"Menor de 18 anos\",\n",
    "        3 : \"Entre 18 e 25 anos\",\n",
    "        4 : \"Entre 18 e 25 anos\",\n",
    "        5 : \"Entre 18 e 25 anos\",\n",
    "        6 : \"Entre 18 e 25 anos\",\n",
    "        7 : \"Entre 18 e 25 anos\",\n",
    "        8 : \"Entre 18 e 25 anos\",\n",
    "        9 : \"Entre 18 e 25 anos\",\n",
    "        10 : \"Entre 18 e 25 anos\",\n",
    "        11 : \"Entre 26 e 30 anos\",\n",
    "        12 : \"Entre 31 e 35 anos\",\n",
    "        13 : \"Entre 36 e 40 anos\",\n",
    "        14 : \"Entre 41 e 45 anos\",\n",
    "        15 : \"Entre 46 e 50 anos\",\n",
    "        16 : \"Entre 51 e 55 anos\",\n",
    "        17 : \"Entre 56 e 60 anos\",\n",
    "        18 : \"Entre 61 e 65 anos\",\n",
    "        19 : \"Entre 66 e 70 anos\",\n",
    "        20 : \"Maior de 70 anos\"\n",
    "    }"
   ]
  },
  {
   "cell_type": "code",
   "execution_count": 20,
   "metadata": {},
   "outputs": [
    {
     "name": "stderr",
     "output_type": "stream",
     "text": [
      "C:\\Users\\thiag\\AppData\\Local\\Temp\\ipykernel_10756\\3202363845.py:3: SettingWithCopyWarning: \n",
      "A value is trying to be set on a copy of a slice from a DataFrame.\n",
      "Try using .loc[row_indexer,col_indexer] = value instead\n",
      "\n",
      "See the caveats in the documentation: https://pandas.pydata.org/pandas-docs/stable/user_guide/indexing.html#returning-a-view-versus-a-copy\n",
      "  dados['TP_SEXO'] = dados['TP_SEXO'].replace(tp_sexo)\n",
      "C:\\Users\\thiag\\AppData\\Local\\Temp\\ipykernel_10756\\3202363845.py:4: SettingWithCopyWarning: \n",
      "A value is trying to be set on a copy of a slice from a DataFrame.\n",
      "Try using .loc[row_indexer,col_indexer] = value instead\n",
      "\n",
      "See the caveats in the documentation: https://pandas.pydata.org/pandas-docs/stable/user_guide/indexing.html#returning-a-view-versus-a-copy\n",
      "  dados['TP_FAIXA_ETARIA'] = dados['TP_FAIXA_ETARIA'].replace(tp_faixa_etaria_ajustada)\n",
      "C:\\Users\\thiag\\AppData\\Local\\Temp\\ipykernel_10756\\3202363845.py:5: SettingWithCopyWarning: \n",
      "A value is trying to be set on a copy of a slice from a DataFrame.\n",
      "Try using .loc[row_indexer,col_indexer] = value instead\n",
      "\n",
      "See the caveats in the documentation: https://pandas.pydata.org/pandas-docs/stable/user_guide/indexing.html#returning-a-view-versus-a-copy\n",
      "  dados['TP_COR_RACA'] = dados['TP_COR_RACA'].replace(tp_cor_raca)\n",
      "C:\\Users\\thiag\\AppData\\Local\\Temp\\ipykernel_10756\\3202363845.py:6: SettingWithCopyWarning: \n",
      "A value is trying to be set on a copy of a slice from a DataFrame.\n",
      "Try using .loc[row_indexer,col_indexer] = value instead\n",
      "\n",
      "See the caveats in the documentation: https://pandas.pydata.org/pandas-docs/stable/user_guide/indexing.html#returning-a-view-versus-a-copy\n",
      "  dados['TP_ESCOLA'] = dados['TP_ESCOLA'].replace(tp_escola)\n",
      "C:\\Users\\thiag\\AppData\\Local\\Temp\\ipykernel_10756\\3202363845.py:7: SettingWithCopyWarning: \n",
      "A value is trying to be set on a copy of a slice from a DataFrame.\n",
      "Try using .loc[row_indexer,col_indexer] = value instead\n",
      "\n",
      "See the caveats in the documentation: https://pandas.pydata.org/pandas-docs/stable/user_guide/indexing.html#returning-a-view-versus-a-copy\n",
      "  dados['TP_PRESENCA_LC_CH'] = dados['TP_PRESENCA_LC_CH'].replace(tp_presenca)\n",
      "C:\\Users\\thiag\\AppData\\Local\\Temp\\ipykernel_10756\\3202363845.py:8: SettingWithCopyWarning: \n",
      "A value is trying to be set on a copy of a slice from a DataFrame.\n",
      "Try using .loc[row_indexer,col_indexer] = value instead\n",
      "\n",
      "See the caveats in the documentation: https://pandas.pydata.org/pandas-docs/stable/user_guide/indexing.html#returning-a-view-versus-a-copy\n",
      "  dados['TP_PRESENCA_MT_CN'] = dados['TP_PRESENCA_MT_CN'].replace(tp_presenca)\n",
      "C:\\Users\\thiag\\AppData\\Local\\Temp\\ipykernel_10756\\3202363845.py:9: SettingWithCopyWarning: \n",
      "A value is trying to be set on a copy of a slice from a DataFrame.\n",
      "Try using .loc[row_indexer,col_indexer] = value instead\n",
      "\n",
      "See the caveats in the documentation: https://pandas.pydata.org/pandas-docs/stable/user_guide/indexing.html#returning-a-view-versus-a-copy\n",
      "  dados['Q001'] = dados['Q001'].replace(q001_2)\n",
      "C:\\Users\\thiag\\AppData\\Local\\Temp\\ipykernel_10756\\3202363845.py:10: SettingWithCopyWarning: \n",
      "A value is trying to be set on a copy of a slice from a DataFrame.\n",
      "Try using .loc[row_indexer,col_indexer] = value instead\n",
      "\n",
      "See the caveats in the documentation: https://pandas.pydata.org/pandas-docs/stable/user_guide/indexing.html#returning-a-view-versus-a-copy\n",
      "  dados['Q002'] = dados['Q002'].replace(q001_2)\n",
      "C:\\Users\\thiag\\AppData\\Local\\Temp\\ipykernel_10756\\3202363845.py:11: SettingWithCopyWarning: \n",
      "A value is trying to be set on a copy of a slice from a DataFrame.\n",
      "Try using .loc[row_indexer,col_indexer] = value instead\n",
      "\n",
      "See the caveats in the documentation: https://pandas.pydata.org/pandas-docs/stable/user_guide/indexing.html#returning-a-view-versus-a-copy\n",
      "  dados['Q006'] = dados['Q006'].replace(q006)\n"
     ]
    }
   ],
   "source": [
    "# Realizando a substituição no nosso dataframe\n",
    "\n",
    "dados['TP_SEXO'] = dados['TP_SEXO'].replace(tp_sexo)\n",
    "dados['TP_FAIXA_ETARIA'] = dados['TP_FAIXA_ETARIA'].replace(tp_faixa_etaria_ajustada)\n",
    "dados['TP_COR_RACA'] = dados['TP_COR_RACA'].replace(tp_cor_raca)\n",
    "dados['TP_ESCOLA'] = dados['TP_ESCOLA'].replace(tp_escola)\n",
    "dados['TP_PRESENCA_LC_CH'] = dados['TP_PRESENCA_LC_CH'].replace(tp_presenca)\n",
    "dados['TP_PRESENCA_MT_CN'] = dados['TP_PRESENCA_MT_CN'].replace(tp_presenca)\n",
    "dados['Q001'] = dados['Q001'].replace(q001_2)\n",
    "dados['Q002'] = dados['Q002'].replace(q001_2)\n",
    "dados['Q006'] = dados['Q006'].replace(q006)"
   ]
  },
  {
   "cell_type": "code",
   "execution_count": 21,
   "metadata": {},
   "outputs": [
    {
     "data": {
      "text/html": [
       "<div>\n",
       "<style scoped>\n",
       "    .dataframe tbody tr th:only-of-type {\n",
       "        vertical-align: middle;\n",
       "    }\n",
       "\n",
       "    .dataframe tbody tr th {\n",
       "        vertical-align: top;\n",
       "    }\n",
       "\n",
       "    .dataframe thead th {\n",
       "        text-align: right;\n",
       "    }\n",
       "</style>\n",
       "<table border=\"1\" class=\"dataframe\">\n",
       "  <thead>\n",
       "    <tr style=\"text-align: right;\">\n",
       "      <th></th>\n",
       "      <th>NU_INSCRICAO</th>\n",
       "      <th>TP_FAIXA_ETARIA</th>\n",
       "      <th>TP_SEXO</th>\n",
       "      <th>TP_COR_RACA</th>\n",
       "      <th>TP_ESCOLA</th>\n",
       "      <th>TP_PRESENCA_LC_CH</th>\n",
       "      <th>TP_PRESENCA_MT_CN</th>\n",
       "      <th>Q001</th>\n",
       "      <th>Q002</th>\n",
       "      <th>Q006</th>\n",
       "    </tr>\n",
       "  </thead>\n",
       "  <tbody>\n",
       "    <tr>\n",
       "      <th>0</th>\n",
       "      <td>210057943671</td>\n",
       "      <td>Entre 41 e 45 anos</td>\n",
       "      <td>Masculino</td>\n",
       "      <td>Preta</td>\n",
       "      <td>Não Respondeu</td>\n",
       "      <td>Faltou à prova</td>\n",
       "      <td>Faltou à prova</td>\n",
       "      <td>Nunca estudou.</td>\n",
       "      <td>Nunca estudou.</td>\n",
       "      <td>Até R$ 1.212,00</td>\n",
       "    </tr>\n",
       "    <tr>\n",
       "      <th>1</th>\n",
       "      <td>210057516120</td>\n",
       "      <td>Entre 41 e 45 anos</td>\n",
       "      <td>Masculino</td>\n",
       "      <td>Branca</td>\n",
       "      <td>Não Respondeu</td>\n",
       "      <td>Faltou à prova</td>\n",
       "      <td>Faltou à prova</td>\n",
       "      <td>Completou a 8ª série/9º ano do Ensino Fundamen...</td>\n",
       "      <td>Completou a 8ª série/9º ano do Ensino Fundamen...</td>\n",
       "      <td>Acima de R$ 24.240,00.</td>\n",
       "    </tr>\n",
       "    <tr>\n",
       "      <th>2</th>\n",
       "      <td>210057280536</td>\n",
       "      <td>Entre 18 e 25 anos</td>\n",
       "      <td>Feminino</td>\n",
       "      <td>Preta</td>\n",
       "      <td>Não Respondeu</td>\n",
       "      <td>Presente na prova</td>\n",
       "      <td>Presente na prova</td>\n",
       "      <td>Completou o Ensino Médio, mas não completou a ...</td>\n",
       "      <td>Completou a Faculdade, mas não completou a Pós...</td>\n",
       "      <td>Até R$ 1.212,00</td>\n",
       "    </tr>\n",
       "    <tr>\n",
       "      <th>3</th>\n",
       "      <td>210055724397</td>\n",
       "      <td>Entre 18 e 25 anos</td>\n",
       "      <td>Masculino</td>\n",
       "      <td>Parda</td>\n",
       "      <td>Não Respondeu</td>\n",
       "      <td>Presente na prova</td>\n",
       "      <td>Presente na prova</td>\n",
       "      <td>Completou a 4ª série/5º ano, mas não completou...</td>\n",
       "      <td>Nunca estudou.</td>\n",
       "      <td>Nenhuma Renda</td>\n",
       "    </tr>\n",
       "    <tr>\n",
       "      <th>4</th>\n",
       "      <td>210055097896</td>\n",
       "      <td>Entre 18 e 25 anos</td>\n",
       "      <td>Masculino</td>\n",
       "      <td>Parda</td>\n",
       "      <td>Não Respondeu</td>\n",
       "      <td>Faltou à prova</td>\n",
       "      <td>Faltou à prova</td>\n",
       "      <td>Completou a 8ª série/9º ano do Ensino Fundamen...</td>\n",
       "      <td>Não completou a 4ª série/5º ano do Ensino Fund...</td>\n",
       "      <td>Até R$ 1.212,00</td>\n",
       "    </tr>\n",
       "  </tbody>\n",
       "</table>\n",
       "</div>"
      ],
      "text/plain": [
       "   NU_INSCRICAO     TP_FAIXA_ETARIA    TP_SEXO TP_COR_RACA      TP_ESCOLA  \\\n",
       "0  210057943671  Entre 41 e 45 anos  Masculino       Preta  Não Respondeu   \n",
       "1  210057516120  Entre 41 e 45 anos  Masculino      Branca  Não Respondeu   \n",
       "2  210057280536  Entre 18 e 25 anos   Feminino       Preta  Não Respondeu   \n",
       "3  210055724397  Entre 18 e 25 anos  Masculino       Parda  Não Respondeu   \n",
       "4  210055097896  Entre 18 e 25 anos  Masculino       Parda  Não Respondeu   \n",
       "\n",
       "   TP_PRESENCA_LC_CH  TP_PRESENCA_MT_CN  \\\n",
       "0     Faltou à prova     Faltou à prova   \n",
       "1     Faltou à prova     Faltou à prova   \n",
       "2  Presente na prova  Presente na prova   \n",
       "3  Presente na prova  Presente na prova   \n",
       "4     Faltou à prova     Faltou à prova   \n",
       "\n",
       "                                                Q001  \\\n",
       "0                                     Nunca estudou.   \n",
       "1  Completou a 8ª série/9º ano do Ensino Fundamen...   \n",
       "2  Completou o Ensino Médio, mas não completou a ...   \n",
       "3  Completou a 4ª série/5º ano, mas não completou...   \n",
       "4  Completou a 8ª série/9º ano do Ensino Fundamen...   \n",
       "\n",
       "                                                Q002                    Q006  \n",
       "0                                     Nunca estudou.         Até R$ 1.212,00  \n",
       "1  Completou a 8ª série/9º ano do Ensino Fundamen...  Acima de R$ 24.240,00.  \n",
       "2  Completou a Faculdade, mas não completou a Pós...         Até R$ 1.212,00  \n",
       "3                                     Nunca estudou.           Nenhuma Renda  \n",
       "4  Não completou a 4ª série/5º ano do Ensino Fund...         Até R$ 1.212,00  "
      ]
     },
     "execution_count": 21,
     "metadata": {},
     "output_type": "execute_result"
    }
   ],
   "source": [
    "# Verificando se os dados foram todos ajustados corretamente\n",
    "dados.head()"
   ]
  },
  {
   "cell_type": "code",
   "execution_count": 22,
   "metadata": {},
   "outputs": [
    {
     "name": "stdout",
     "output_type": "stream",
     "text": [
      "<class 'pandas.core.frame.DataFrame'>\n",
      "RangeIndex: 3476105 entries, 0 to 3476104\n",
      "Data columns (total 10 columns):\n",
      " #   Column             Dtype \n",
      "---  ------             ----- \n",
      " 0   NU_INSCRICAO       int64 \n",
      " 1   TP_FAIXA_ETARIA    object\n",
      " 2   TP_SEXO            object\n",
      " 3   TP_COR_RACA        object\n",
      " 4   TP_ESCOLA          object\n",
      " 5   TP_PRESENCA_LC_CH  object\n",
      " 6   TP_PRESENCA_MT_CN  object\n",
      " 7   Q001               object\n",
      " 8   Q002               object\n",
      " 9   Q006               object\n",
      "dtypes: int64(1), object(9)\n",
      "memory usage: 265.2+ MB\n"
     ]
    }
   ],
   "source": [
    "dados.info()"
   ]
  },
  {
   "cell_type": "markdown",
   "metadata": {},
   "source": [
    "### Iniciando as análises\n",
    "---"
   ]
  },
  {
   "cell_type": "markdown",
   "metadata": {},
   "source": [
    "Resumo estatístico dos nossos dados, onde podemos ver a quantidade de resgistros (count), a quantidade de valores únicos (unique), o valor mais frequente/maior quantidade (top) e a quantidade de vezes que esse valor mais frequente aparece (freq)."
   ]
  },
  {
   "cell_type": "code",
   "execution_count": 23,
   "metadata": {},
   "outputs": [
    {
     "data": {
      "text/html": [
       "<div>\n",
       "<style scoped>\n",
       "    .dataframe tbody tr th:only-of-type {\n",
       "        vertical-align: middle;\n",
       "    }\n",
       "\n",
       "    .dataframe tbody tr th {\n",
       "        vertical-align: top;\n",
       "    }\n",
       "\n",
       "    .dataframe thead th {\n",
       "        text-align: right;\n",
       "    }\n",
       "</style>\n",
       "<table border=\"1\" class=\"dataframe\">\n",
       "  <thead>\n",
       "    <tr style=\"text-align: right;\">\n",
       "      <th></th>\n",
       "      <th>TP_FAIXA_ETARIA</th>\n",
       "      <th>TP_SEXO</th>\n",
       "      <th>TP_COR_RACA</th>\n",
       "      <th>TP_ESCOLA</th>\n",
       "      <th>TP_PRESENCA_LC_CH</th>\n",
       "      <th>TP_PRESENCA_MT_CN</th>\n",
       "      <th>Q001</th>\n",
       "      <th>Q002</th>\n",
       "      <th>Q006</th>\n",
       "    </tr>\n",
       "  </thead>\n",
       "  <tbody>\n",
       "    <tr>\n",
       "      <th>count</th>\n",
       "      <td>3476105</td>\n",
       "      <td>3476105</td>\n",
       "      <td>3476105</td>\n",
       "      <td>3476105</td>\n",
       "      <td>3476105</td>\n",
       "      <td>3476105</td>\n",
       "      <td>3476105</td>\n",
       "      <td>3476105</td>\n",
       "      <td>3476105</td>\n",
       "    </tr>\n",
       "    <tr>\n",
       "      <th>unique</th>\n",
       "      <td>12</td>\n",
       "      <td>2</td>\n",
       "      <td>6</td>\n",
       "      <td>3</td>\n",
       "      <td>3</td>\n",
       "      <td>3</td>\n",
       "      <td>8</td>\n",
       "      <td>8</td>\n",
       "      <td>17</td>\n",
       "    </tr>\n",
       "    <tr>\n",
       "      <th>top</th>\n",
       "      <td>Entre 18 e 25 anos</td>\n",
       "      <td>Feminino</td>\n",
       "      <td>Parda</td>\n",
       "      <td>Não Respondeu</td>\n",
       "      <td>Presente na prova</td>\n",
       "      <td>Presente na prova</td>\n",
       "      <td>Completou o Ensino Médio, mas não completou a ...</td>\n",
       "      <td>Completou o Ensino Médio, mas não completou a ...</td>\n",
       "      <td>Até R$ 1.212,00</td>\n",
       "    </tr>\n",
       "    <tr>\n",
       "      <th>freq</th>\n",
       "      <td>1980649</td>\n",
       "      <td>2120519</td>\n",
       "      <td>1488844</td>\n",
       "      <td>2158545</td>\n",
       "      <td>2493442</td>\n",
       "      <td>2355395</td>\n",
       "      <td>1002676</td>\n",
       "      <td>1217025</td>\n",
       "      <td>1022869</td>\n",
       "    </tr>\n",
       "  </tbody>\n",
       "</table>\n",
       "</div>"
      ],
      "text/plain": [
       "           TP_FAIXA_ETARIA   TP_SEXO TP_COR_RACA      TP_ESCOLA  \\\n",
       "count              3476105   3476105     3476105        3476105   \n",
       "unique                  12         2           6              3   \n",
       "top     Entre 18 e 25 anos  Feminino       Parda  Não Respondeu   \n",
       "freq               1980649   2120519     1488844        2158545   \n",
       "\n",
       "        TP_PRESENCA_LC_CH  TP_PRESENCA_MT_CN  \\\n",
       "count             3476105            3476105   \n",
       "unique                  3                  3   \n",
       "top     Presente na prova  Presente na prova   \n",
       "freq              2493442            2355395   \n",
       "\n",
       "                                                     Q001  \\\n",
       "count                                             3476105   \n",
       "unique                                                  8   \n",
       "top     Completou o Ensino Médio, mas não completou a ...   \n",
       "freq                                              1002676   \n",
       "\n",
       "                                                     Q002             Q006  \n",
       "count                                             3476105          3476105  \n",
       "unique                                                  8               17  \n",
       "top     Completou o Ensino Médio, mas não completou a ...  Até R$ 1.212,00  \n",
       "freq                                              1217025          1022869  "
      ]
     },
     "execution_count": 23,
     "metadata": {},
     "output_type": "execute_result"
    }
   ],
   "source": [
    "# Resumo do Data Frame onde mostra o resultado médio(maior quantidade) das colunas selecionadas.\n",
    "dados.describe(include = 'O')"
   ]
  },
  {
   "cell_type": "markdown",
   "metadata": {},
   "source": [
    "##### Quantidade de pessoas por faixa etária:"
   ]
  },
  {
   "cell_type": "code",
   "execution_count": 24,
   "metadata": {},
   "outputs": [
    {
     "data": {
      "text/plain": [
       "{'Entre 18 e 25 anos': 1980649,\n",
       " 'Menor de 18 anos': 1014883,\n",
       " 'Entre 26 e 30 anos': 189700,\n",
       " 'Entre 31 e 35 anos': 103634,\n",
       " 'Entre 36 e 40 anos': 74162,\n",
       " 'Entre 41 e 45 anos': 49735,\n",
       " 'Entre 46 e 50 anos': 30066,\n",
       " 'Entre 51 e 55 anos': 17688,\n",
       " 'Entre 56 e 60 anos': 9688,\n",
       " 'Entre 61 e 65 anos': 3817,\n",
       " 'Entre 66 e 70 anos': 1505,\n",
       " 'Maior de 70 anos': 578}"
      ]
     },
     "execution_count": 24,
     "metadata": {},
     "output_type": "execute_result"
    }
   ],
   "source": [
    "# Quantidade percentual dos participantes por faixa etária\n",
    "qtd_faixas = dict(dados['TP_FAIXA_ETARIA'].value_counts())\n",
    "qtd_faixas"
   ]
  },
  {
   "cell_type": "code",
   "execution_count": 25,
   "metadata": {},
   "outputs": [
    {
     "data": {
      "text/plain": [
       "{'Entre 18 e 25 anos': 56.98,\n",
       " 'Menor de 18 anos': 29.2,\n",
       " 'Entre 26 e 30 anos': 5.46,\n",
       " 'Entre 31 e 35 anos': 2.98,\n",
       " 'Entre 36 e 40 anos': 2.13,\n",
       " 'Entre 41 e 45 anos': 1.43,\n",
       " 'Entre 46 e 50 anos': 0.86,\n",
       " 'Entre 51 e 55 anos': 0.51,\n",
       " 'Entre 56 e 60 anos': 0.28,\n",
       " 'Entre 61 e 65 anos': 0.11,\n",
       " 'Entre 66 e 70 anos': 0.04,\n",
       " 'Maior de 70 anos': 0.02}"
      ]
     },
     "execution_count": 25,
     "metadata": {},
     "output_type": "execute_result"
    }
   ],
   "source": [
    "# Quantidade percentual dos participantes por faixa etária\n",
    "qtd_faixas_perc = {}\n",
    "for k, v in qtd_faixas.items():\n",
    "    percentual = v / len(dados)\n",
    "    qtd_faixas_perc[k] = round(percentual*100, 2)\n",
    "\n",
    "qtd_faixas_perc"
   ]
  },
  {
   "cell_type": "code",
   "execution_count": 26,
   "metadata": {},
   "outputs": [
    {
     "data": {
      "image/png": "[encoded data removed]",
      "text/plain": [
       "<Figure size 1200x600 with 1 Axes>"
      ]
     },
     "metadata": {},
     "output_type": "display_data"
    }
   ],
   "source": [
    "plt.figure(figsize=(12, 6))\n",
    "plt.bar(qtd_faixas.keys(), qtd_faixas.values())\n",
    "plt.title('Quantidade de candidatos por Faixa Etária', loc='center')\n",
    "plt.xticks(rotation=45)\n",
    "plt.show()"
   ]
  },
  {
   "cell_type": "markdown",
   "metadata": {},
   "source": [
    "##### Quantidade de pessoas por sexo:"
   ]
  },
  {
   "cell_type": "code",
   "execution_count": 27,
   "metadata": {},
   "outputs": [
    {
     "data": {
      "text/plain": [
       "{'Feminino': 2120519, 'Masculino': 1355586}"
      ]
     },
     "execution_count": 27,
     "metadata": {},
     "output_type": "execute_result"
    }
   ],
   "source": [
    "# Quantidade de participantes por \n",
    "qtd_participantes_sexo = dict(dados['TP_SEXO'].value_counts())\n",
    "qtd_participantes_sexo"
   ]
  },
  {
   "cell_type": "code",
   "execution_count": 28,
   "metadata": {},
   "outputs": [
    {
     "data": {
      "text/plain": [
       "{'Feminino': 61.0, 'Masculino': 39.0}"
      ]
     },
     "execution_count": 28,
     "metadata": {},
     "output_type": "execute_result"
    }
   ],
   "source": [
    "# Quantidade percentual dos participantes por sexo\n",
    "qtd_participantes_sexo_perc = {}\n",
    "for k, v in qtd_participantes_sexo.items():\n",
    "    percentual = v / len(dados)\n",
    "    qtd_participantes_sexo_perc[k] = round(percentual*100, 2)\n",
    "\n",
    "qtd_participantes_sexo_perc"
   ]
  },
  {
   "cell_type": "code",
   "execution_count": 29,
   "metadata": {},
   "outputs": [
    {
     "data": {
      "image/png": "[encoded data removed]",
      "text/plain": [
       "<Figure size 1200x600 with 1 Axes>"
      ]
     },
     "metadata": {},
     "output_type": "display_data"
    }
   ],
   "source": [
    "plt.figure(figsize=(12, 6))\n",
    "plt.pie(qtd_participantes_sexo.values(), startangle = 90, labels=qtd_participantes_sexo_perc.values())\n",
    "plt.title('Quantidade de candidatos por Sexo', loc='center')\n",
    "plt.legend(qtd_participantes_sexo.keys(), bbox_to_anchor=(1, 0.9))\n",
    "plt.show()"
   ]
  },
  {
   "cell_type": "markdown",
   "metadata": {},
   "source": [
    "##### Quantidade de pessoas por raça:"
   ]
  },
  {
   "cell_type": "code",
   "execution_count": 30,
   "metadata": {},
   "outputs": [
    {
     "data": {
      "text/plain": [
       "{'Parda': 1488844,\n",
       " 'Branca': 1428081,\n",
       " 'Preta': 408422,\n",
       " 'Amarela': 66051,\n",
       " 'Não declarado': 64867,\n",
       " 'Indígena ': 19840}"
      ]
     },
     "execution_count": 30,
     "metadata": {},
     "output_type": "execute_result"
    }
   ],
   "source": [
    "# Quantidade de participantes por raça\n",
    "qtd_participantes_racas = dict(dados['TP_COR_RACA'].value_counts())\n",
    "qtd_participantes_racas"
   ]
  },
  {
   "cell_type": "code",
   "execution_count": 31,
   "metadata": {},
   "outputs": [
    {
     "data": {
      "text/plain": [
       "{'Parda': 42.83,\n",
       " 'Branca': 41.08,\n",
       " 'Preta': 11.75,\n",
       " 'Amarela': 1.9,\n",
       " 'Não declarado': 1.87,\n",
       " 'Indígena ': 0.57}"
      ]
     },
     "execution_count": 31,
     "metadata": {},
     "output_type": "execute_result"
    }
   ],
   "source": [
    "# Quantidade percentual dos participantes por raça\n",
    "qtd_participantes_racas_perc = {}\n",
    "for k, v in qtd_participantes_racas.items():\n",
    "    percentual = v / len(dados)\n",
    "    qtd_participantes_racas_perc[k] = round(percentual*100, 2)\n",
    "\n",
    "qtd_participantes_racas_perc"
   ]
  },
  {
   "cell_type": "code",
   "execution_count": 32,
   "metadata": {},
   "outputs": [
    {
     "data": {
      "image/png": "[encoded data removed]",
      "text/plain": [
       "<Figure size 1200x600 with 1 Axes>"
      ]
     },
     "metadata": {},
     "output_type": "display_data"
    }
   ],
   "source": [
    "plt.figure(figsize=(12, 6))\n",
    "plt.title('Quantidade de candidatos por Raça', loc='center')\n",
    "# plt.bar(qtd_participantes_racas.keys(), qtd_participantes_racas.values())\n",
    "plt.pie(qtd_participantes_racas.values(), startangle = 90, autopct='%1.1f%%', pctdistance=0.85)\n",
    "plt.legend(qtd_participantes_racas.keys(), bbox_to_anchor=(1, 0.9))\n",
    "\n",
    "plt.show()"
   ]
  },
  {
   "cell_type": "markdown",
   "metadata": {},
   "source": [
    "##### Análise por renda"
   ]
  },
  {
   "cell_type": "code",
   "execution_count": 33,
   "metadata": {},
   "outputs": [
    {
     "data": {
      "text/plain": [
       "{'Até R$ 1.212,00': 1022869,\n",
       " 'De R$ 1.212,01 até R$ 1.818,00.': 584278,\n",
       " 'De R$ 1.818,01 até R$ 2.424,00.': 414266,\n",
       " 'De R$ 2.424,01 até R$ 3.030,00.': 276704,\n",
       " 'Nenhuma Renda': 204475,\n",
       " 'De R$ 3.636,01 até R$ 4.848,00.': 194319,\n",
       " 'De R$ 4.848,01 até R$ 6.060,00.': 188751,\n",
       " 'De R$ 3.030,01 até R$ 3.636,00.': 158091,\n",
       " 'De R$ 6.060,01 até R$ 7.272,00.': 78916,\n",
       " 'De R$ 7.272,01 até R$ 8.484,00.': 54984,\n",
       " 'De R$ 9.696,01 até R$ 10.908,00.': 51295,\n",
       " 'Acima de R$ 24.240,00.': 49740,\n",
       " 'De R$ 10.908,01 até R$ 12.120,00.': 48530,\n",
       " 'De R$ 14.544,01 até R$ 18.180,00.': 39034,\n",
       " 'De R$ 8.484,01 até R$ 9.696,00.': 38997,\n",
       " 'De R$ 18.180,01 até R$ 24.240,00.': 36032,\n",
       " 'De R$ 12.120,01 até R$ 14.544,00.': 34824}"
      ]
     },
     "execution_count": 33,
     "metadata": {},
     "output_type": "execute_result"
    }
   ],
   "source": [
    "qtd_faixas_renda = dict(dados['Q006'].value_counts())\n",
    "qtd_faixas_renda"
   ]
  },
  {
   "cell_type": "code",
   "execution_count": 86,
   "metadata": {},
   "outputs": [
    {
     "name": "stdout",
     "output_type": "stream",
     "text": [
      "Até R$ 1.212,00 29.43\n",
      "De R$ 1.212,01 até R$ 1.818,00. 16.81\n",
      "De R$ 1.818,01 até R$ 2.424,00. 11.92\n",
      "De R$ 2.424,01 até R$ 3.030,00. 7.96\n",
      "Nenhuma Renda 5.88\n",
      "De R$ 3.636,01 até R$ 4.848,00. 5.59\n",
      "De R$ 4.848,01 até R$ 6.060,00. 5.43\n",
      "De R$ 3.030,01 até R$ 3.636,00. 4.55\n",
      "De R$ 6.060,01 até R$ 7.272,00. 2.27\n",
      "De R$ 7.272,01 até R$ 8.484,00. 1.58\n",
      "De R$ 9.696,01 até R$ 10.908,00. 1.48\n",
      "Acima de R$ 24.240,00. 1.43\n",
      "De R$ 10.908,01 até R$ 12.120,00. 1.4\n",
      "De R$ 14.544,01 até R$ 18.180,00. 1.12\n",
      "De R$ 8.484,01 até R$ 9.696,00. 1.12\n",
      "De R$ 18.180,01 até R$ 24.240,00. 1.04\n",
      "De R$ 12.120,01 até R$ 14.544,00. 1.0\n"
     ]
    }
   ],
   "source": [
    "# Quantidade percentual dos participantes por faixa de renda\n",
    "qtd_faixas_renda_perc = {}\n",
    "for k, v in qtd_faixas_renda.items():\n",
    "    percentual = v / len(dados)\n",
    "    qtd_faixas_renda_perc[k] = round(percentual*100, 2)\n",
    "\n",
    "for k, v in qtd_faixas_renda_perc.items():\n",
    "    print(k, v)"
   ]
  },
  {
   "cell_type": "code",
   "execution_count": 102,
   "metadata": {},
   "outputs": [
    {
     "data": {
      "image/png": "[encoded data removed]",
      "text/plain": [
       "<Figure size 1200x600 with 1 Axes>"
      ]
     },
     "metadata": {},
     "output_type": "display_data"
    }
   ],
   "source": [
    "plt.figure(figsize=(12, 6))\n",
    "# plt.bar(qtd_faixas_renda.keys(), qtd_faixas_renda.values())\n",
    "plt.barh(list(qtd_faixas_renda.keys()), qtd_faixas_renda.values())\n",
    "plt.title('Quantidade de candidatos por Faixa de Renda', loc='center')\n",
    "plt.yticks(list(qtd_faixas_renda.keys()))\n",
    "\n",
    "for key, value in qtd_faixas_renda.items():\n",
    "    plt.text(bar.get_width(), key, str(value), ha='left', va='center', fontsize=10)\n",
    "plt.show()"
   ]
  },
  {
   "cell_type": "code",
   "execution_count": null,
   "metadata": {},
   "outputs": [],
   "source": [
    "\n"
   ]
  },
  {
   "cell_type": "markdown",
   "metadata": {},
   "source": [
    "#### Características das pessoas pertencentes a principal faixa etária"
   ]
  },
  {
   "cell_type": "markdown",
   "metadata": {},
   "source": [
    "Estamos focando na faixa etária 'Entre 18 e 25 anos', pois vimos que ela representa, aproximadamente, 57% de toda nossa base de dados."
   ]
  },
  {
   "cell_type": "code",
   "execution_count": 36,
   "metadata": {},
   "outputs": [
    {
     "data": {
      "text/html": [
       "<div>\n",
       "<style scoped>\n",
       "    .dataframe tbody tr th:only-of-type {\n",
       "        vertical-align: middle;\n",
       "    }\n",
       "\n",
       "    .dataframe tbody tr th {\n",
       "        vertical-align: top;\n",
       "    }\n",
       "\n",
       "    .dataframe thead th {\n",
       "        text-align: right;\n",
       "    }\n",
       "</style>\n",
       "<table border=\"1\" class=\"dataframe\">\n",
       "  <thead>\n",
       "    <tr style=\"text-align: right;\">\n",
       "      <th></th>\n",
       "      <th>TP_FAIXA_ETARIA</th>\n",
       "      <th>TP_SEXO</th>\n",
       "      <th>TP_COR_RACA</th>\n",
       "      <th>TP_ESCOLA</th>\n",
       "      <th>TP_PRESENCA_LC_CH</th>\n",
       "      <th>TP_PRESENCA_MT_CN</th>\n",
       "      <th>Q001</th>\n",
       "      <th>Q002</th>\n",
       "      <th>Q006</th>\n",
       "    </tr>\n",
       "  </thead>\n",
       "  <tbody>\n",
       "    <tr>\n",
       "      <th>count</th>\n",
       "      <td>1980649</td>\n",
       "      <td>1980649</td>\n",
       "      <td>1980649</td>\n",
       "      <td>1980649</td>\n",
       "      <td>1980649</td>\n",
       "      <td>1980649</td>\n",
       "      <td>1980649</td>\n",
       "      <td>1980649</td>\n",
       "      <td>1980649</td>\n",
       "    </tr>\n",
       "    <tr>\n",
       "      <th>unique</th>\n",
       "      <td>1</td>\n",
       "      <td>2</td>\n",
       "      <td>6</td>\n",
       "      <td>3</td>\n",
       "      <td>3</td>\n",
       "      <td>3</td>\n",
       "      <td>8</td>\n",
       "      <td>8</td>\n",
       "      <td>17</td>\n",
       "    </tr>\n",
       "    <tr>\n",
       "      <th>top</th>\n",
       "      <td>Entre 18 e 25 anos</td>\n",
       "      <td>Feminino</td>\n",
       "      <td>Parda</td>\n",
       "      <td>Não Respondeu</td>\n",
       "      <td>Presente na prova</td>\n",
       "      <td>Presente na prova</td>\n",
       "      <td>Completou o Ensino Médio, mas não completou a ...</td>\n",
       "      <td>Completou o Ensino Médio, mas não completou a ...</td>\n",
       "      <td>Até R$ 1.212,00</td>\n",
       "    </tr>\n",
       "    <tr>\n",
       "      <th>freq</th>\n",
       "      <td>1980649</td>\n",
       "      <td>1193881</td>\n",
       "      <td>869674</td>\n",
       "      <td>1205980</td>\n",
       "      <td>1371711</td>\n",
       "      <td>1298077</td>\n",
       "      <td>578507</td>\n",
       "      <td>727387</td>\n",
       "      <td>649665</td>\n",
       "    </tr>\n",
       "  </tbody>\n",
       "</table>\n",
       "</div>"
      ],
      "text/plain": [
       "           TP_FAIXA_ETARIA   TP_SEXO TP_COR_RACA      TP_ESCOLA  \\\n",
       "count              1980649   1980649     1980649        1980649   \n",
       "unique                   1         2           6              3   \n",
       "top     Entre 18 e 25 anos  Feminino       Parda  Não Respondeu   \n",
       "freq               1980649   1193881      869674        1205980   \n",
       "\n",
       "        TP_PRESENCA_LC_CH  TP_PRESENCA_MT_CN  \\\n",
       "count             1980649            1980649   \n",
       "unique                  3                  3   \n",
       "top     Presente na prova  Presente na prova   \n",
       "freq              1371711            1298077   \n",
       "\n",
       "                                                     Q001  \\\n",
       "count                                             1980649   \n",
       "unique                                                  8   \n",
       "top     Completou o Ensino Médio, mas não completou a ...   \n",
       "freq                                               578507   \n",
       "\n",
       "                                                     Q002             Q006  \n",
       "count                                             1980649          1980649  \n",
       "unique                                                  8               17  \n",
       "top     Completou o Ensino Médio, mas não completou a ...  Até R$ 1.212,00  \n",
       "freq                                               727387           649665  "
      ]
     },
     "execution_count": 36,
     "metadata": {},
     "output_type": "execute_result"
    }
   ],
   "source": [
    "# Criando um dataframe para analisarmos melhor essa faixa etária\n",
    "df_entre_18_25 = dados.loc[dados['TP_FAIXA_ETARIA'] == 'Entre 18 e 25 anos']\n",
    "df_entre_18_25.describe(include = 'O')"
   ]
  },
  {
   "cell_type": "markdown",
   "metadata": {},
   "source": [
    "##### Quantidade de pessoas por sexo:"
   ]
  },
  {
   "cell_type": "code",
   "execution_count": 37,
   "metadata": {},
   "outputs": [
    {
     "data": {
      "text/plain": [
       "{'Feminino': 1193881, 'Masculino': 786768}"
      ]
     },
     "execution_count": 37,
     "metadata": {},
     "output_type": "execute_result"
    }
   ],
   "source": [
    "# Quantidade de participantes por \n",
    "qtd_participantes_sexo2 = dict(df_entre_18_25['TP_SEXO'].value_counts())\n",
    "qtd_participantes_sexo2"
   ]
  },
  {
   "cell_type": "code",
   "execution_count": 38,
   "metadata": {},
   "outputs": [
    {
     "data": {
      "text/plain": [
       "{'Feminino': 60.28, 'Masculino': 39.72}"
      ]
     },
     "execution_count": 38,
     "metadata": {},
     "output_type": "execute_result"
    }
   ],
   "source": [
    "# Quantidade percentual dos participantes por sexo\n",
    "qtd_participantes_sexo_perc2 = {}\n",
    "for k, v in qtd_participantes_sexo2.items():\n",
    "    percentual = v / len(df_entre_18_25)\n",
    "    qtd_participantes_sexo_perc2[k] = round(percentual*100, 2)\n",
    "\n",
    "qtd_participantes_sexo_perc2"
   ]
  },
  {
   "cell_type": "code",
   "execution_count": 39,
   "metadata": {},
   "outputs": [
    {
     "data": {
      "image/png": "[encoded data removed]",
      "text/plain": [
       "<Figure size 640x480 with 1 Axes>"
      ]
     },
     "metadata": {},
     "output_type": "display_data"
    }
   ],
   "source": [
    "plt.pie(qtd_participantes_sexo2.values(), startangle = 90)\n",
    "plt.legend(qtd_participantes_sexo2.keys(), bbox_to_anchor=(1, 0.9))\n",
    "plt.show()"
   ]
  },
  {
   "cell_type": "markdown",
   "metadata": {},
   "source": [
    "##### Quantidade de pessoas por raça:"
   ]
  },
  {
   "cell_type": "code",
   "execution_count": 40,
   "metadata": {},
   "outputs": [
    {
     "data": {
      "text/plain": [
       "{'Parda': 869674,\n",
       " 'Branca': 769378,\n",
       " 'Preta': 253546,\n",
       " 'Amarela': 39160,\n",
       " 'Não declarado': 36596,\n",
       " 'Indígena ': 12295}"
      ]
     },
     "execution_count": 40,
     "metadata": {},
     "output_type": "execute_result"
    }
   ],
   "source": [
    "# Quantidade de participantes por raça\n",
    "qtd_participantes_racas2 = dict(df_entre_18_25['TP_COR_RACA'].value_counts())\n",
    "qtd_participantes_racas2"
   ]
  },
  {
   "cell_type": "code",
   "execution_count": 41,
   "metadata": {},
   "outputs": [
    {
     "data": {
      "text/plain": [
       "{'Parda': 43.91,\n",
       " 'Branca': 38.84,\n",
       " 'Preta': 12.8,\n",
       " 'Amarela': 1.98,\n",
       " 'Não declarado': 1.85,\n",
       " 'Indígena ': 0.62}"
      ]
     },
     "execution_count": 41,
     "metadata": {},
     "output_type": "execute_result"
    }
   ],
   "source": [
    "# Quantidade percentual dos participantes por raça\n",
    "qtd_participantes_racas_perc2 = {}\n",
    "for k, v in qtd_participantes_racas2.items():\n",
    "    percentual = v / len(df_entre_18_25)\n",
    "    qtd_participantes_racas_perc2[k] = round(percentual*100, 2)\n",
    "\n",
    "qtd_participantes_racas_perc2"
   ]
  },
  {
   "cell_type": "code",
   "execution_count": 42,
   "metadata": {},
   "outputs": [
    {
     "data": {
      "image/png": "[encoded data removed]",
      "text/plain": [
       "<Figure size 1200x600 with 1 Axes>"
      ]
     },
     "metadata": {},
     "output_type": "display_data"
    }
   ],
   "source": [
    "plt.figure(figsize=(12, 6))\n",
    "plt.title('Quantidade de candidatos por Raça', loc='center')\n",
    "plt.pie(qtd_participantes_racas2.values(), startangle = 90)\n",
    "plt.legend(qtd_participantes_racas2.keys(), bbox_to_anchor=(1, 0.9))\n",
    "plt.show()"
   ]
  },
  {
   "cell_type": "markdown",
   "metadata": {},
   "source": [
    "##### Análise por renda"
   ]
  },
  {
   "cell_type": "code",
   "execution_count": 43,
   "metadata": {},
   "outputs": [
    {
     "data": {
      "text/plain": [
       "{'Até R$ 1.212,00': 649665,\n",
       " 'De R$ 1.212,01 até R$ 1.818,00.': 354769,\n",
       " 'De R$ 1.818,01 até R$ 2.424,00.': 239713,\n",
       " 'De R$ 2.424,01 até R$ 3.030,00.': 153343,\n",
       " 'Nenhuma Renda': 125051,\n",
       " 'De R$ 3.636,01 até R$ 4.848,00.': 99895,\n",
       " 'De R$ 4.848,01 até R$ 6.060,00.': 90737,\n",
       " 'De R$ 3.030,01 até R$ 3.636,00.': 84442,\n",
       " 'De R$ 6.060,01 até R$ 7.272,00.': 37305,\n",
       " 'De R$ 7.272,01 até R$ 8.484,00.': 25034,\n",
       " 'De R$ 9.696,01 até R$ 10.908,00.': 21744,\n",
       " 'De R$ 10.908,01 até R$ 12.120,00.': 20439,\n",
       " 'Acima de R$ 24.240,00.': 17696,\n",
       " 'De R$ 8.484,01 até R$ 9.696,00.': 17565,\n",
       " 'De R$ 14.544,01 até R$ 18.180,00.': 15360,\n",
       " 'De R$ 12.120,01 até R$ 14.544,00.': 14273,\n",
       " 'De R$ 18.180,01 até R$ 24.240,00.': 13618}"
      ]
     },
     "execution_count": 43,
     "metadata": {},
     "output_type": "execute_result"
    }
   ],
   "source": [
    "qtd_faixas_renda2 = dict(df_entre_18_25['Q006'].value_counts())\n",
    "qtd_faixas_renda2"
   ]
  },
  {
   "cell_type": "code",
   "execution_count": 44,
   "metadata": {},
   "outputs": [
    {
     "data": {
      "text/plain": [
       "{'Até R$ 1.212,00': 32.8,\n",
       " 'De R$ 1.212,01 até R$ 1.818,00.': 17.91,\n",
       " 'De R$ 1.818,01 até R$ 2.424,00.': 12.1,\n",
       " 'De R$ 2.424,01 até R$ 3.030,00.': 7.74,\n",
       " 'Nenhuma Renda': 6.31,\n",
       " 'De R$ 3.636,01 até R$ 4.848,00.': 5.04,\n",
       " 'De R$ 4.848,01 até R$ 6.060,00.': 4.58,\n",
       " 'De R$ 3.030,01 até R$ 3.636,00.': 4.26,\n",
       " 'De R$ 6.060,01 até R$ 7.272,00.': 1.88,\n",
       " 'De R$ 7.272,01 até R$ 8.484,00.': 1.26,\n",
       " 'De R$ 9.696,01 até R$ 10.908,00.': 1.1,\n",
       " 'De R$ 10.908,01 até R$ 12.120,00.': 1.03,\n",
       " 'Acima de R$ 24.240,00.': 0.89,\n",
       " 'De R$ 8.484,01 até R$ 9.696,00.': 0.89,\n",
       " 'De R$ 14.544,01 até R$ 18.180,00.': 0.78,\n",
       " 'De R$ 12.120,01 até R$ 14.544,00.': 0.72,\n",
       " 'De R$ 18.180,01 até R$ 24.240,00.': 0.69}"
      ]
     },
     "execution_count": 44,
     "metadata": {},
     "output_type": "execute_result"
    }
   ],
   "source": [
    "# Quantidade percentual dos participantes por faixa de renda\n",
    "qtd_faixas_renda_perc2 = {}\n",
    "for k, v in qtd_faixas_renda2.items():\n",
    "    percentual = v / len(df_entre_18_25)\n",
    "    qtd_faixas_renda_perc2[k] = round(percentual*100, 2)\n",
    "\n",
    "qtd_faixas_renda_perc2"
   ]
  },
  {
   "cell_type": "code",
   "execution_count": 45,
   "metadata": {},
   "outputs": [
    {
     "data": {
      "image/png": "[encoded data removed]",
      "text/plain": [
       "<Figure size 1200x600 with 1 Axes>"
      ]
     },
     "metadata": {},
     "output_type": "display_data"
    }
   ],
   "source": [
    "plt.figure(figsize=(12, 6))\n",
    "plt.bar(qtd_faixas_renda2.keys(), qtd_faixas_renda2.values())\n",
    "plt.title('Quantidade de candidatos por Faixa de Renda', loc='center')\n",
    "plt.xticks(rotation=90)\n",
    "plt.show()"
   ]
  },
  {
   "cell_type": "markdown",
   "metadata": {},
   "source": [
    "### Conclusões\n",
    "---"
   ]
  },
  {
   "cell_type": "markdown",
   "metadata": {},
   "source": [
    "Atarvés das análises realizadas neste trabalho, pudemos conhecer um pouco mais dos perfis das pessoas que realizam o Exame Nacional do Ensino Médio (ENEM), a principal porta de entrada para o ensino superior. Especificamente tratando sobre o ano de 2022, podemos ver que:\n",
    "- Aproximadamente 57% (1.980.649) dos candidatos possue entre 18 a 25 anos; \n",
    "- Quase 83% é constituído por pessoas que se consideram brancas ou pardas;\n",
    "- Mais da metade dos candidatos que se inscreveram para realizar o exame (52,12%) possuem uma renda familiar menor que R$1.818,00;\n",
    "- A faixa etária com maior número de inscritos reflete o perfil do todo;\n",
    "- Um fator que, de certa forma, nos chamou a atenção é a quantidade de pessoas acima de 60 anos que se inscreveram para realizar a prova. Foram 5.900 inscritos (cerca de 0,17% da base). Embora pareça baixo, se comparado com o total de inscritos, mas que demonstram que não existe idade limite para se tentar alcançar seus sonhos!"
   ]
  },
  {
   "cell_type": "markdown",
   "metadata": {},
   "source": []
  }
 ],
 "metadata": {
  "kernelspec": {
   "display_name": "Python 3",
   "language": "python",
   "name": "python3"
  },
  "language_info": {
   "codemirror_mode": {
    "name": "ipython",
    "version": 3
   },
   "file_extension": ".py",
   "mimetype": "text/x-python",
   "name": "python",
   "nbconvert_exporter": "python",
   "pygments_lexer": "ipython3",
   "version": "3.11.7"
  }
 },
 "nbformat": 4,
 "nbformat_minor": 2
}
